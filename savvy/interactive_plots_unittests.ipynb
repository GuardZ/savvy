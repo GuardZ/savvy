{
 "cells": [
  {
   "cell_type": "code",
   "execution_count": 4,
   "metadata": {
    "collapsed": false
   },
   "outputs": [
    {
     "ename": "IOError",
     "evalue": "[Errno 2] No such file or directory: '/Users/houghb/Dropbox/Projects/savvy/savvy\\\\sample_data_files\\\\unittest_comparisons.pkl'",
     "output_type": "error",
     "traceback": [
      "\u001b[0;31m---------------------------------------------------------------------------\u001b[0m",
      "\u001b[0;31mIOError\u001b[0m                                   Traceback (most recent call last)",
      "\u001b[0;32m<ipython-input-4-42d4f6340c32>\u001b[0m in \u001b[0;36m<module>\u001b[0;34m()\u001b[0m\n\u001b[1;32m     11\u001b[0m \u001b[0;31m# Load a sample file to use for testing\u001b[0m\u001b[0;34m\u001b[0m\u001b[0;34m\u001b[0m\u001b[0m\n\u001b[1;32m     12\u001b[0m comps = pickle.load(open(path + '\\\\sample_data_files\\\\unittest_comparisons.pkl',\n\u001b[0;32m---> 13\u001b[0;31m                          'rb'))\n\u001b[0m\u001b[1;32m     14\u001b[0m \u001b[0;34m\u001b[0m\u001b[0m\n\u001b[1;32m     15\u001b[0m \u001b[0;34m\u001b[0m\u001b[0m\n",
      "\u001b[0;31mIOError\u001b[0m: [Errno 2] No such file or directory: '/Users/houghb/Dropbox/Projects/savvy/savvy\\\\sample_data_files\\\\unittest_comparisons.pkl'"
     ]
    }
   ],
   "source": [
    "import unittest\n",
    "import os\n",
    "try:\n",
    "    import cPickle as pickle\n",
    "except:\n",
    "    import pickle\n",
    "\n",
    "\n",
    "path = os.getcwd()\n",
    "\n",
    "# Load a sample file to use for testing\n",
    "comps = pickle.load(open(path + '\\\\sample_data_files\\\\unittest_comparisons.pkl',\n",
    "                         'rb'))\n",
    "\n",
    "\n",
    "import data_processing as dp\n",
    "from collections import OrderedDict\n",
    "import numpy as np\n",
    "import pandas as pd\n",
    "\n",
    "import os\n",
    "import sys\n",
    "import interactive_plots as ip\n",
    "import unittest\n",
    "from nose.tools import assert_equal, assert_in\n",
    "import matplotlib\n",
    "from matplotlib.testing.decorators import image_comparison\n",
    "from plotting import make_plot, make_second_order_heatmap\n",
    "from bokeh.plotting import figure, show, output_notebook, output_file\n",
    "\n",
    "import warnings; warnings.filterwarnings('ignore')\n",
    "\n",
    "output_notebook()\n",
    "\n",
    "sa_dict = comps[0]\n",
    "\n",
    "p = ip.interact_with_plot_all_outputs(sa_dict, demo = True, manual=False) \n",
    "\n",
    "class TestInteractWithPlots(unittest.TestCase):\n",
    "\n",
    "    def test_interact_with_plot_all_outputs_all_widgets_appear(self):\n",
    "        \"\"\"\n",
    "        Are all widgets appearing and are they in right order?\n",
    "        \"\"\"\n",
    "        l = p.widget.children\n",
    "        self.assertEqual(len(l), 6)\n",
    "        array_of_widget_names = []\n",
    "        for i in range(len(l)):\n",
    "            widgets = p.widget.children[i]\n",
    "            array_of_widget_names.append(str(widgets.class_own_traits.im_self)\n",
    "                                         .split('.')[-1].strip('\\'>'))\n",
    "        self.assertEqual(array_of_widget_names, ['BoundedFloatText',\n",
    "                                       'IntText',\n",
    "                                       'Checkbox',\n",
    "                                       'Checkbox',\n",
    "                                       'Checkbox',\n",
    "                                       'SelectMultiple'])\n",
    "\n",
    "\n",
    "    def test_interact_with_plot_all_outputs_default_values(self):\n",
    "        \"\"\"\n",
    "        Are interactive widgets working properly and have proper \n",
    "        default values??\n",
    "\n",
    "        \"\"\"\n",
    "        self.assertEqual(p.widget.children[0].value, 0.01)\n",
    "        self.assertEqual(p.widget.children[1].value, 20.0)\n",
    "        self.assertEqual(p.widget.children[2].value, True)\n",
    "        self.assertEqual(p.widget.children[3].value, True)\n",
    "        self.assertEqual(p.widget.children[4].value, True)\n",
    "        self.assertEqual(p.widget.children[5].value, ('Tmax', 'Carbon', 'Hydrogen'))\n",
    "\n",
    "\n",
    "    def test_plot_all_outputs_gives_all_outputs(self):\n",
    "        \"\"\"\n",
    "        Are tabs showing up?\n",
    "        \"\"\"\n",
    "        # this test is in process \n",
    "        \n",
    "suite = unittest.TestLoader().loadTestsFromTestCase(TestInteractWithPlots)\n",
    "unittest.TextTestRunner(verbosity=1,stream=sys.stderr).run(suite)"
   ]
  },
  {
   "cell_type": "code",
   "execution_count": null,
   "metadata": {
    "collapsed": true
   },
   "outputs": [],
   "source": []
  }
 ],
 "metadata": {
  "kernelspec": {
   "display_name": "Python 2",
   "language": "python",
   "name": "python2"
  },
  "language_info": {
   "codemirror_mode": {
    "name": "ipython",
    "version": 2
   },
   "file_extension": ".py",
   "mimetype": "text/x-python",
   "name": "python",
   "nbconvert_exporter": "python",
   "pygments_lexer": "ipython2",
   "version": "2.7.11"
  }
 },
 "nbformat": 4,
 "nbformat_minor": 0
}

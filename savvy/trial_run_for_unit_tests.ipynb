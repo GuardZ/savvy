{
 "cells": [
  {
   "cell_type": "code",
   "execution_count": 3,
   "metadata": {
    "collapsed": false
   },
   "outputs": [
    {
     "ename": "SyntaxError",
     "evalue": "invalid syntax (<ipython-input-3-1d7c6da14b4e>, line 2)",
     "output_type": "error",
     "traceback": [
      "\u001b[1;36m  File \u001b[1;32m\"<ipython-input-3-1d7c6da14b4e>\"\u001b[1;36m, line \u001b[1;32m2\u001b[0m\n\u001b[1;33m    run tests/test_interactive_plots.py\u001b[0m\n\u001b[1;37m            ^\u001b[0m\n\u001b[1;31mSyntaxError\u001b[0m\u001b[1;31m:\u001b[0m invalid syntax\n"
     ]
    }
   ],
   "source": [
    "import savvy\n"
   ]
  },
  {
   "cell_type": "code",
   "execution_count": 4,
   "metadata": {
    "collapsed": false
   },
   "outputs": [
    {
     "ename": "ImportError",
     "evalue": "No module named savvy",
     "output_type": "error",
     "traceback": [
      "\u001b[1;31m---------------------------------------------------------------------------\u001b[0m",
      "\u001b[1;31mImportError\u001b[0m                               Traceback (most recent call last)",
      "\u001b[1;32mC:\\Users\\Swapil\\Documents\\GitHub\\savvy\\savvy\\tests\\test_interactive_plots.py\u001b[0m in \u001b[0;36m<module>\u001b[1;34m()\u001b[0m\n\u001b[0;32m      6\u001b[0m     \u001b[1;32mimport\u001b[0m \u001b[0mpickle\u001b[0m\u001b[1;33m\u001b[0m\u001b[0m\n\u001b[0;32m      7\u001b[0m \u001b[1;33m\u001b[0m\u001b[0m\n\u001b[1;32m----> 8\u001b[1;33m \u001b[1;32mimport\u001b[0m \u001b[0msavvy\u001b[0m\u001b[1;33m\u001b[0m\u001b[0m\n\u001b[0m\u001b[0;32m      9\u001b[0m \u001b[1;33m\u001b[0m\u001b[0m\n\u001b[0;32m     10\u001b[0m \u001b[0mpath\u001b[0m \u001b[1;33m=\u001b[0m \u001b[0mop\u001b[0m\u001b[1;33m.\u001b[0m\u001b[0mjoin\u001b[0m\u001b[1;33m(\u001b[0m\u001b[0msavvy\u001b[0m\u001b[1;33m.\u001b[0m\u001b[0m__path__\u001b[0m\u001b[1;33m[\u001b[0m\u001b[1;36m0\u001b[0m\u001b[1;33m]\u001b[0m\u001b[1;33m,\u001b[0m \u001b[1;34m'sample_data_files/'\u001b[0m\u001b[1;33m)\u001b[0m\u001b[1;33m\u001b[0m\u001b[0m\n",
      "\u001b[1;31mImportError\u001b[0m: No module named savvy"
     ]
    }
   ],
   "source": [
    "run tests/test_interactive_plots.py"
   ]
  },
  {
   "cell_type": "markdown",
   "metadata": {},
   "source": [
    "# Here is some code that might help test for interactivity"
   ]
  },
  {
   "cell_type": "code",
   "execution_count": 169,
   "metadata": {
    "collapsed": true
   },
   "outputs": [],
   "source": [
    "from __future__ import print_function\n",
    "\n",
    "try:\n",
    "    from unittest.mock import patch\n",
    "except ImportError:\n",
    "    from mock import patch\n",
    "\n",
    "import nose.tools as nt\n",
    "\n",
    "from ipykernel.comm import Comm\n",
    "import ipywidgets as widgets\n",
    "\n",
    "from traitlets import TraitError\n",
    "from ipywidgets import interact, interactive, Widget, interaction\n",
    "from ipython_genutils.py3compat import annotate"
   ]
  },
  {
   "cell_type": "code",
   "execution_count": 170,
   "metadata": {
    "collapsed": true
   },
   "outputs": [],
   "source": [
    "#-----------------------------------------------------------------------------\n",
    "# Utility stuff\n",
    "#-----------------------------------------------------------------------------\n",
    "\n",
    "class DummyComm(Comm):\n",
    "    comm_id = 'a-b-c-d'\n",
    "\n",
    "    def open(self, *args, **kwargs):\n",
    "        pass\n",
    "\n",
    "    def send(self, *args, **kwargs):\n",
    "        pass\n",
    "\n",
    "    def close(self, *args, **kwargs):\n",
    "        pass\n",
    "\n",
    "_widget_attrs = {}\n",
    "displayed = []\n",
    "undefined = object()\n",
    "\n",
    "def setup():\n",
    "    _widget_attrs['_comm_default'] = getattr(Widget, '_comm_default', undefined)\n",
    "    Widget._comm_default = lambda self: DummyComm()\n",
    "    _widget_attrs['_ipython_display_'] = Widget._ipython_display_\n",
    "    def raise_not_implemented(*args, **kwargs):\n",
    "        raise NotImplementedError()\n",
    "    Widget._ipython_display_ = raise_not_implemented\n",
    "\n",
    "def teardown():\n",
    "    for attr, value in _widget_attrs.items():\n",
    "        if value is undefined:\n",
    "            delattr(Widget, attr)\n",
    "        else:\n",
    "            setattr(Widget, attr, value)\n",
    "\n",
    "def f(**kwargs):\n",
    "    pass\n",
    "\n",
    "def clear_display():\n",
    "    global displayed\n",
    "    displayed = []\n",
    "\n",
    "def record_display(*args):\n",
    "    displayed.extend(args)"
   ]
  },
  {
   "cell_type": "code",
   "execution_count": 171,
   "metadata": {
    "collapsed": true
   },
   "outputs": [],
   "source": [
    "def test_single_value_bool():\n",
    "    for a in (True, False):\n",
    "        c = interactive(f, a=a)\n",
    "        w = c.children[0]\n",
    "        check_widget(w,\n",
    "            cls=widgets.Checkbox,\n",
    "            description='a',\n",
    "            value=a,\n",
    "        )"
   ]
  },
  {
   "cell_type": "code",
   "execution_count": 172,
   "metadata": {
    "collapsed": true
   },
   "outputs": [],
   "source": [
    "def test_list_tuple_str():\n",
    "    values = ['hello', 'there', 'guy']\n",
    "    first = values[0]\n",
    "    c = interactive(f, tup=tuple(values), lis=list(values))\n",
    "    nt.assert_equal(len(c.children), 2)\n",
    "    d = dict(\n",
    "        cls=widgets.Dropdown,\n",
    "        value=first,\n",
    "        options=values\n",
    "    )\n",
    "    check_widgets(c, tup=d, lis=d)"
   ]
  }
 ],
 "metadata": {
  "kernelspec": {
   "display_name": "Python 2",
   "language": "python",
   "name": "python2"
  },
  "language_info": {
   "codemirror_mode": {
    "name": "ipython",
    "version": 2
   },
   "file_extension": ".py",
   "mimetype": "text/x-python",
   "name": "python",
   "nbconvert_exporter": "python",
   "pygments_lexer": "ipython2",
   "version": "2.7.11"
  }
 },
 "nbformat": 4,
 "nbformat_minor": 0
}

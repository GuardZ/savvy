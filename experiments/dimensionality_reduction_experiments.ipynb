{
 "cells": [
  {
   "cell_type": "code",
   "execution_count": null,
   "metadata": {
    "collapsed": false
   },
   "outputs": [],
   "source": [
    "# look at the sensitivity analysis results\n",
    "import pandas as pd\n",
    "import numpy as np\n",
    "import os\n",
    "import matplotlib.pyplot as plt\n",
    "\n",
    "%matplotlib inline\n",
    "\n",
    "# numrows = 100000\n",
    "pd.set_option('display.max_columns', None)\n",
    "results = pd.read_csv('../HDSAviz_data/results.csv')#, nrows=numrows)\n",
    "params = pd.read_csv('../HDSAviz_data/input_parameters.csv')#, nrows=numrows)\n",
    "# These two functional groups aren't present in light oils...\n",
    "results.drop(['light_aromatic_C-C', 'light_aromatic_methoxyl'], axis=1,\n",
    "             inplace=True)\n",
    "# These parameters are not part of the sensitivity analysis\n",
    "params.drop(['End_time', 'Oxygen'], axis=1, inplace=True)\n",
    "comb = pd.concat([params, results], axis=1)"
   ]
  },
  {
   "cell_type": "code",
   "execution_count": null,
   "metadata": {
    "collapsed": false
   },
   "outputs": [],
   "source": [
    "def plot_corr(df, method='spearman', size=10, window=None):\n",
    "    '''Plots a graphical correlation matrix for each\n",
    "       pair of columns in the dataframe.\n",
    "\n",
    "    Input:\n",
    "        df: pandas DataFrame\n",
    "        size: vertical and horizontal size of the plot\n",
    "        window: the range of the plot that you want to show\n",
    "    '''\n",
    "\n",
    "    corr = df.corr()\n",
    "    fig, ax = plt.subplots(figsize=(size, size))\n",
    "    # blue is negative values, red is positive values, white ~0\n",
    "    ax.matshow(corr, cmap='seismic')\n",
    "    plt.xticks(range(len(corr.columns)), corr.columns, rotation=90)\n",
    "    plt.yticks(range(len(corr.columns)), corr.columns)\n",
    "    if window is not None:\n",
    "        plt.axis(window)\n",
    "    plt.savefig('correlation_matrix-%s.pdf' % (method), bbox_inches = 'tight')\n",
    "\n",
    "plot_corr(comb, size=100, window=[0, 409, 410, 440])"
   ]
  },
  {
   "cell_type": "code",
   "execution_count": null,
   "metadata": {
    "collapsed": true
   },
   "outputs": [],
   "source": []
  }
 ],
 "metadata": {
  "kernelspec": {
   "display_name": "Python 2",
   "language": "python",
   "name": "python2"
  },
  "language_info": {
   "codemirror_mode": {
    "name": "ipython",
    "version": 2
   },
   "file_extension": ".py",
   "mimetype": "text/x-python",
   "name": "python",
   "nbconvert_exporter": "python",
   "pygments_lexer": "ipython2",
   "version": "2.7.11"
  }
 },
 "nbformat": 4,
 "nbformat_minor": 0
}

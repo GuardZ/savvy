{
 "cells": [
  {
   "cell_type": "markdown",
   "metadata": {},
   "source": [
    "This notebook cleans and combines the input bash script and composition list data file to provide a complete set of the input parameters sampled in the sensitivity analysis.\n",
    "\n",
    "The file it saves is large (over 4GB), with 824000 lines.  CSV entries in that file are as follows:  \n",
    "End time [s], Tmax [K], h [c/min], Carbon [mole fraction], Hydrogen [mole fraction], Oxygen [mole fraction], followed by 406 rate constant adjustment factors for all the reactions in the model."
   ]
  },
  {
   "cell_type": "code",
   "execution_count": 3,
   "metadata": {
    "collapsed": false
   },
   "outputs": [],
   "source": [
    "import csv\n",
    "\n",
    "# Read the bash script and store the lines that include simulation calls\n",
    "params = []\n",
    "with open('sa_data/sa_bash_script.sh', 'rb') as script:\n",
    "    for line in script:\n",
    "        if line.startswith('mkdir'):\n",
    "            params.append(line.split(';')[2].split('&')[0])\n",
    "\n",
    "# Read the composition list to get the equivalent composition of each line\n",
    "# compositions are mole fractions of C, H, O\n",
    "composition = []\n",
    "with open('sa_data/SAcompositionlist.dat', 'rb') as comp:\n",
    "    for line in comp:\n",
    "        if line.startswith('param'):\n",
    "            line = line.rstrip()\n",
    "            composition.append(line.split('\\t')[1:])"
   ]
  },
  {
   "cell_type": "code",
   "execution_count": 8,
   "metadata": {
    "collapsed": true
   },
   "outputs": [],
   "source": [
    "# Write the cleaned set of parameters to a csv file\n",
    "with open('input_parameters.csv', 'wb') as paramfile:\n",
    "    csvwriter = csv.writer(paramfile, delimiter=',')\n",
    "    \n",
    "    for i,line in enumerate(params):\n",
    "        end_time_s = line.split(' ')[3]\n",
    "        h_cmin = line.split(' ')[7]\n",
    "        tmax_K = line.split(' ')[8]\n",
    "        rate_const_adjust = line.split(' ')[15].split(',')\n",
    "        comp = composition[i]\n",
    "        # put all these together into a new parameter line\n",
    "        csvwriter.writerow([end_time_s] + [tmax_K] + [h_cmin]\n",
    "                          + comp + rate_const_adjust)\n",
    "    "
   ]
  },
  {
   "cell_type": "code",
   "execution_count": null,
   "metadata": {
    "collapsed": true
   },
   "outputs": [],
   "source": []
  }
 ],
 "metadata": {
  "kernelspec": {
   "display_name": "Python 2",
   "language": "python",
   "name": "python2"
  },
  "language_info": {
   "codemirror_mode": {
    "name": "ipython",
    "version": 2
   },
   "file_extension": ".py",
   "mimetype": "text/x-python",
   "name": "python",
   "nbconvert_exporter": "python",
   "pygments_lexer": "ipython2",
   "version": "2.7.11"
  }
 },
 "nbformat": 4,
 "nbformat_minor": 0
}
